{
  "nbformat": 4,
  "nbformat_minor": 0,
  "metadata": {
    "colab": {
      "provenance": [],
      "include_colab_link": true
    },
    "kernelspec": {
      "name": "python3",
      "display_name": "Python 3"
    },
    "language_info": {
      "name": "python"
    }
  },
  "cells": [
    {
      "cell_type": "markdown",
      "metadata": {
        "id": "view-in-github",
        "colab_type": "text"
      },
      "source": [
        "<a href=\"https://colab.research.google.com/github/marcsegal/Hands-On-Data-Analysis-with-Pandas-2nd-edition/blob/master/Clustering_Analysis_of_Smart_Contract_Risk_tags.ipynb\" target=\"_parent\"><img src=\"https://colab.research.google.com/assets/colab-badge.svg\" alt=\"Open In Colab\"/></a>"
      ]
    },
    {
      "cell_type": "markdown",
      "source": [
        "# Clustering Analysis of Smart Contracts\n",
        "Welcome to this interactive tutorial on clustering smart contracts based on risk tags! This Colab notebook will guide you through the process of applying Hierarchical clustering to a dataset of smart contracts. You'll learn how to prepare your data, select features, implement clustering, visualize the results, and interpret these findings to gain insights into smart contract vulnerabilities.\n",
        "\n",
        "**Goals:**\n",
        "- Understand and implement Hierarchical clustering.\n",
        "- Visualize clustering results to interpret data.\n",
        "- Apply these techniques to your dataset.\n",
        "\n",
        "Before you start, make sure you have uploaded your dataset to this notebook's environment or access it directly from a public URL.\n",
        "\n",
        "Ensure that you have a basic understanding of Python programming and familiarity with libraries such as pandas, matplotlib, and seaborn. If you're ready, let's start by setting up our environment and loading the data!\n"
      ],
      "metadata": {
        "id": "pxQuVWv7YkwQ"
      }
    },
    {
      "cell_type": "markdown",
      "source": [
        "### Step 1: Import libraries"
      ],
      "metadata": {
        "id": "aIYqn6nCYvST"
      }
    },
    {
      "cell_type": "code",
      "source": [
        "# Import necessary Python libraries\n",
        "import pandas as pd\n",
        "import numpy as np\n",
        "import matplotlib.pyplot as plt\n",
        "import seaborn as sns\n",
        "import scipy.cluster.hierarchy as sch\n",
        "from scipy.spatial.distance import pdist, squareform\n",
        "from scipy.cluster.hierarchy import fcluster\n",
        "\n",
        "print(\"Libraries imported successfully!\")\n"
      ],
      "metadata": {
        "colab": {
          "base_uri": "https://localhost:8080/"
        },
        "id": "HkiRjYs6Yv1C",
        "outputId": "9e6a54a6-3bfd-4676-c1c6-c70a18652aa7"
      },
      "execution_count": null,
      "outputs": [
        {
          "output_type": "stream",
          "name": "stdout",
          "text": [
            "Libraries imported successfully!\n"
          ]
        }
      ]
    },
    {
      "cell_type": "markdown",
      "source": [
        "### Step 2: Download the dataset"
      ],
      "metadata": {
        "id": "Hc13c8B8Yz4B"
      }
    },
    {
      "cell_type": "markdown",
      "source": [
        "This step would download the dummy dataset. If you have your own dataset, then please add it to colab's environment."
      ],
      "metadata": {
        "id": "SlJGqzQY8S6c"
      }
    },
    {
      "cell_type": "code",
      "source": [
        "!gdown 1NYR65tYzMe4Rwc0kFyTEj2nerJJFRf6n"
      ],
      "metadata": {
        "colab": {
          "base_uri": "https://localhost:8080/"
        },
        "id": "d3D84FPQY3ku",
        "outputId": "76aa7ed6-af38-4e35-eb10-99d708c0222f"
      },
      "execution_count": null,
      "outputs": [
        {
          "output_type": "stream",
          "name": "stdout",
          "text": [
            "Downloading...\n",
            "From: https://drive.google.com/uc?id=1NYR65tYzMe4Rwc0kFyTEj2nerJJFRf6n\n",
            "To: /content/webacy_risk_dataset.xlsx\n",
            "\r  0% 0.00/28.2k [00:00<?, ?B/s]\r100% 28.2k/28.2k [00:00<00:00, 8.79MB/s]\n"
          ]
        }
      ]
    },
    {
      "cell_type": "code",
      "source": [
        "print(\"Setup complete. Imported pandas, seaborn, and matplotlib. Downloaded Webacy dummy dataset.\")"
      ],
      "metadata": {
        "colab": {
          "base_uri": "https://localhost:8080/"
        },
        "id": "rQo-Sp2lY6zV",
        "outputId": "56d20fad-ef26-4560-c9c2-89aa1953aac2"
      },
      "execution_count": null,
      "outputs": [
        {
          "output_type": "stream",
          "name": "stdout",
          "text": [
            "Setup complete. Imported pandas, seaborn, and matplotlib. Downloaded Webacy dummy dataset.\n"
          ]
        }
      ]
    },
    {
      "cell_type": "markdown",
      "source": [
        "### Step 3: Load the Data Section\n",
        "\n",
        "Now even though we have downloaded the dataset, we still need to load it into our Python environment. For this we will utilize the Pandas library."
      ],
      "metadata": {
        "id": "icYIrcZNY_aR"
      }
    },
    {
      "cell_type": "code",
      "source": [
        "# Loading the dataset\n",
        "\n",
        "data = pd.read_excel('webacy_risk_dataset.xlsx')\n",
        "\n",
        "# Display the first five rows of the dataframe\n",
        "data.head()"
      ],
      "metadata": {
        "colab": {
          "base_uri": "https://localhost:8080/",
          "height": 707
        },
        "id": "SD1rsI8AZACs",
        "outputId": "16adc874-51f5-4e97-f5d4-a8b676ef7003"
      },
      "execution_count": null,
      "outputs": [
        {
          "output_type": "execute_result",
          "data": {
            "text/plain": [
              "                        Blog Post Link  \\\n",
              "0  https://exampleblockchain.com/post0   \n",
              "1  https://exampleblockchain.com/post1   \n",
              "2  https://exampleblockchain.com/post2   \n",
              "3  https://exampleblockchain.com/post3   \n",
              "4  https://exampleblockchain.com/post4   \n",
              "\n",
              "                       Smart Contract Address  \\\n",
              "0  0xcf503b37935247688ca1677e8159d8943035eff0   \n",
              "1  0x23813d33e70199f0fa473eb27c2004556841f49a   \n",
              "2  0xaf811799367be2b0e35c9a4b464ff43c448ef43a   \n",
              "3  0x7fd55015930f5e012420d32ad0759f0a2baf7b29   \n",
              "4  0x2e3eb32e3412be9a14a6b8b23006063ea38c8de8   \n",
              "\n",
              "                         Audit Website                     Source link 1  \\\n",
              "0  https://auditplatform.com/contract0  https://sourceinfo.com/detail159   \n",
              "1  https://auditplatform.com/contract1  https://sourceinfo.com/detail143   \n",
              "2  https://auditplatform.com/contract2  https://sourceinfo.com/detail179   \n",
              "3  https://auditplatform.com/contract3  https://sourceinfo.com/detail159   \n",
              "4  https://auditplatform.com/contract4  https://sourceinfo.com/detail121   \n",
              "\n",
              "                      Source link 2                     Source link 3  \\\n",
              "0  https://sourceinfo.com/detail293  https://sourceinfo.com/detail351   \n",
              "1  https://sourceinfo.com/detail203  https://sourceinfo.com/detail377   \n",
              "2  https://sourceinfo.com/detail203  https://sourceinfo.com/detail382   \n",
              "3  https://sourceinfo.com/detail298  https://sourceinfo.com/detail317   \n",
              "4  https://sourceinfo.com/detail236  https://sourceinfo.com/detail303   \n",
              "\n",
              "                 Chain  Is_closed_source  hidden_owner  anti_whale_modifiable  \\\n",
              "0              Polygon             False         False                  False   \n",
              "1  Binance Smart Chain             False          True                  False   \n",
              "2             Ethereum             False         False                   True   \n",
              "3              Polygon             False          True                   True   \n",
              "4             Ethereum             False         False                  False   \n",
              "\n",
              "   ...  centralized_risk_high  centralized_risk_low  event_setter  \\\n",
              "0  ...                   True                  True         False   \n",
              "1  ...                  False                  True          True   \n",
              "2  ...                  False                 False          True   \n",
              "3  ...                  False                 False          True   \n",
              "4  ...                   True                 False         False   \n",
              "\n",
              "   external_dependencies  immutable_states  reentrancy_without_eth_transfer  \\\n",
              "0                   True             False                            False   \n",
              "1                  False              True                            False   \n",
              "2                  False             False                             True   \n",
              "3                  False              True                             True   \n",
              "4                  False             False                            False   \n",
              "\n",
              "   incorrect_inheritance_order  shadowing_local  events_maths  \\\n",
              "0                        False            False          True   \n",
              "1                        False             True          True   \n",
              "2                        False            False         False   \n",
              "3                         True             True          True   \n",
              "4                         True            False         False   \n",
              "\n",
              "          Summary/rationale of risk tags marked true  \n",
              "0  Includes both buy and sell taxes, indicating t...  \n",
              "1  Includes both buy and sell taxes, indicating t...  \n",
              "2  Marked as honeypot due to suspicious transacti...  \n",
              "3  Includes both buy and sell taxes, indicating t...  \n",
              "4                                                NaN  \n",
              "\n",
              "[5 rows x 40 columns]"
            ],
            "text/html": [
              "\n",
              "  <div id=\"df-4fa5aece-8d4f-4965-8c8e-b00fe1595023\" class=\"colab-df-container\">\n",
              "    <div>\n",
              "<style scoped>\n",
              "    .dataframe tbody tr th:only-of-type {\n",
              "        vertical-align: middle;\n",
              "    }\n",
              "\n",
              "    .dataframe tbody tr th {\n",
              "        vertical-align: top;\n",
              "    }\n",
              "\n",
              "    .dataframe thead th {\n",
              "        text-align: right;\n",
              "    }\n",
              "</style>\n",
              "<table border=\"1\" class=\"dataframe\">\n",
              "  <thead>\n",
              "    <tr style=\"text-align: right;\">\n",
              "      <th></th>\n",
              "      <th>Blog Post Link</th>\n",
              "      <th>Smart Contract Address</th>\n",
              "      <th>Audit Website</th>\n",
              "      <th>Source link 1</th>\n",
              "      <th>Source link 2</th>\n",
              "      <th>Source link 3</th>\n",
              "      <th>Chain</th>\n",
              "      <th>Is_closed_source</th>\n",
              "      <th>hidden_owner</th>\n",
              "      <th>anti_whale_modifiable</th>\n",
              "      <th>...</th>\n",
              "      <th>centralized_risk_high</th>\n",
              "      <th>centralized_risk_low</th>\n",
              "      <th>event_setter</th>\n",
              "      <th>external_dependencies</th>\n",
              "      <th>immutable_states</th>\n",
              "      <th>reentrancy_without_eth_transfer</th>\n",
              "      <th>incorrect_inheritance_order</th>\n",
              "      <th>shadowing_local</th>\n",
              "      <th>events_maths</th>\n",
              "      <th>Summary/rationale of risk tags marked true</th>\n",
              "    </tr>\n",
              "  </thead>\n",
              "  <tbody>\n",
              "    <tr>\n",
              "      <th>0</th>\n",
              "      <td>https://exampleblockchain.com/post0</td>\n",
              "      <td>0xcf503b37935247688ca1677e8159d8943035eff0</td>\n",
              "      <td>https://auditplatform.com/contract0</td>\n",
              "      <td>https://sourceinfo.com/detail159</td>\n",
              "      <td>https://sourceinfo.com/detail293</td>\n",
              "      <td>https://sourceinfo.com/detail351</td>\n",
              "      <td>Polygon</td>\n",
              "      <td>False</td>\n",
              "      <td>False</td>\n",
              "      <td>False</td>\n",
              "      <td>...</td>\n",
              "      <td>True</td>\n",
              "      <td>True</td>\n",
              "      <td>False</td>\n",
              "      <td>True</td>\n",
              "      <td>False</td>\n",
              "      <td>False</td>\n",
              "      <td>False</td>\n",
              "      <td>False</td>\n",
              "      <td>True</td>\n",
              "      <td>Includes both buy and sell taxes, indicating t...</td>\n",
              "    </tr>\n",
              "    <tr>\n",
              "      <th>1</th>\n",
              "      <td>https://exampleblockchain.com/post1</td>\n",
              "      <td>0x23813d33e70199f0fa473eb27c2004556841f49a</td>\n",
              "      <td>https://auditplatform.com/contract1</td>\n",
              "      <td>https://sourceinfo.com/detail143</td>\n",
              "      <td>https://sourceinfo.com/detail203</td>\n",
              "      <td>https://sourceinfo.com/detail377</td>\n",
              "      <td>Binance Smart Chain</td>\n",
              "      <td>False</td>\n",
              "      <td>True</td>\n",
              "      <td>False</td>\n",
              "      <td>...</td>\n",
              "      <td>False</td>\n",
              "      <td>True</td>\n",
              "      <td>True</td>\n",
              "      <td>False</td>\n",
              "      <td>True</td>\n",
              "      <td>False</td>\n",
              "      <td>False</td>\n",
              "      <td>True</td>\n",
              "      <td>True</td>\n",
              "      <td>Includes both buy and sell taxes, indicating t...</td>\n",
              "    </tr>\n",
              "    <tr>\n",
              "      <th>2</th>\n",
              "      <td>https://exampleblockchain.com/post2</td>\n",
              "      <td>0xaf811799367be2b0e35c9a4b464ff43c448ef43a</td>\n",
              "      <td>https://auditplatform.com/contract2</td>\n",
              "      <td>https://sourceinfo.com/detail179</td>\n",
              "      <td>https://sourceinfo.com/detail203</td>\n",
              "      <td>https://sourceinfo.com/detail382</td>\n",
              "      <td>Ethereum</td>\n",
              "      <td>False</td>\n",
              "      <td>False</td>\n",
              "      <td>True</td>\n",
              "      <td>...</td>\n",
              "      <td>False</td>\n",
              "      <td>False</td>\n",
              "      <td>True</td>\n",
              "      <td>False</td>\n",
              "      <td>False</td>\n",
              "      <td>True</td>\n",
              "      <td>False</td>\n",
              "      <td>False</td>\n",
              "      <td>False</td>\n",
              "      <td>Marked as honeypot due to suspicious transacti...</td>\n",
              "    </tr>\n",
              "    <tr>\n",
              "      <th>3</th>\n",
              "      <td>https://exampleblockchain.com/post3</td>\n",
              "      <td>0x7fd55015930f5e012420d32ad0759f0a2baf7b29</td>\n",
              "      <td>https://auditplatform.com/contract3</td>\n",
              "      <td>https://sourceinfo.com/detail159</td>\n",
              "      <td>https://sourceinfo.com/detail298</td>\n",
              "      <td>https://sourceinfo.com/detail317</td>\n",
              "      <td>Polygon</td>\n",
              "      <td>False</td>\n",
              "      <td>True</td>\n",
              "      <td>True</td>\n",
              "      <td>...</td>\n",
              "      <td>False</td>\n",
              "      <td>False</td>\n",
              "      <td>True</td>\n",
              "      <td>False</td>\n",
              "      <td>True</td>\n",
              "      <td>True</td>\n",
              "      <td>True</td>\n",
              "      <td>True</td>\n",
              "      <td>True</td>\n",
              "      <td>Includes both buy and sell taxes, indicating t...</td>\n",
              "    </tr>\n",
              "    <tr>\n",
              "      <th>4</th>\n",
              "      <td>https://exampleblockchain.com/post4</td>\n",
              "      <td>0x2e3eb32e3412be9a14a6b8b23006063ea38c8de8</td>\n",
              "      <td>https://auditplatform.com/contract4</td>\n",
              "      <td>https://sourceinfo.com/detail121</td>\n",
              "      <td>https://sourceinfo.com/detail236</td>\n",
              "      <td>https://sourceinfo.com/detail303</td>\n",
              "      <td>Ethereum</td>\n",
              "      <td>False</td>\n",
              "      <td>False</td>\n",
              "      <td>False</td>\n",
              "      <td>...</td>\n",
              "      <td>True</td>\n",
              "      <td>False</td>\n",
              "      <td>False</td>\n",
              "      <td>False</td>\n",
              "      <td>False</td>\n",
              "      <td>False</td>\n",
              "      <td>True</td>\n",
              "      <td>False</td>\n",
              "      <td>False</td>\n",
              "      <td>NaN</td>\n",
              "    </tr>\n",
              "  </tbody>\n",
              "</table>\n",
              "<p>5 rows × 40 columns</p>\n",
              "</div>\n",
              "    <div class=\"colab-df-buttons\">\n",
              "\n",
              "  <div class=\"colab-df-container\">\n",
              "    <button class=\"colab-df-convert\" onclick=\"convertToInteractive('df-4fa5aece-8d4f-4965-8c8e-b00fe1595023')\"\n",
              "            title=\"Convert this dataframe to an interactive table.\"\n",
              "            style=\"display:none;\">\n",
              "\n",
              "  <svg xmlns=\"http://www.w3.org/2000/svg\" height=\"24px\" viewBox=\"0 -960 960 960\">\n",
              "    <path d=\"M120-120v-720h720v720H120Zm60-500h600v-160H180v160Zm220 220h160v-160H400v160Zm0 220h160v-160H400v160ZM180-400h160v-160H180v160Zm440 0h160v-160H620v160ZM180-180h160v-160H180v160Zm440 0h160v-160H620v160Z\"/>\n",
              "  </svg>\n",
              "    </button>\n",
              "\n",
              "  <style>\n",
              "    .colab-df-container {\n",
              "      display:flex;\n",
              "      gap: 12px;\n",
              "    }\n",
              "\n",
              "    .colab-df-convert {\n",
              "      background-color: #E8F0FE;\n",
              "      border: none;\n",
              "      border-radius: 50%;\n",
              "      cursor: pointer;\n",
              "      display: none;\n",
              "      fill: #1967D2;\n",
              "      height: 32px;\n",
              "      padding: 0 0 0 0;\n",
              "      width: 32px;\n",
              "    }\n",
              "\n",
              "    .colab-df-convert:hover {\n",
              "      background-color: #E2EBFA;\n",
              "      box-shadow: 0px 1px 2px rgba(60, 64, 67, 0.3), 0px 1px 3px 1px rgba(60, 64, 67, 0.15);\n",
              "      fill: #174EA6;\n",
              "    }\n",
              "\n",
              "    .colab-df-buttons div {\n",
              "      margin-bottom: 4px;\n",
              "    }\n",
              "\n",
              "    [theme=dark] .colab-df-convert {\n",
              "      background-color: #3B4455;\n",
              "      fill: #D2E3FC;\n",
              "    }\n",
              "\n",
              "    [theme=dark] .colab-df-convert:hover {\n",
              "      background-color: #434B5C;\n",
              "      box-shadow: 0px 1px 3px 1px rgba(0, 0, 0, 0.15);\n",
              "      filter: drop-shadow(0px 1px 2px rgba(0, 0, 0, 0.3));\n",
              "      fill: #FFFFFF;\n",
              "    }\n",
              "  </style>\n",
              "\n",
              "    <script>\n",
              "      const buttonEl =\n",
              "        document.querySelector('#df-4fa5aece-8d4f-4965-8c8e-b00fe1595023 button.colab-df-convert');\n",
              "      buttonEl.style.display =\n",
              "        google.colab.kernel.accessAllowed ? 'block' : 'none';\n",
              "\n",
              "      async function convertToInteractive(key) {\n",
              "        const element = document.querySelector('#df-4fa5aece-8d4f-4965-8c8e-b00fe1595023');\n",
              "        const dataTable =\n",
              "          await google.colab.kernel.invokeFunction('convertToInteractive',\n",
              "                                                    [key], {});\n",
              "        if (!dataTable) return;\n",
              "\n",
              "        const docLinkHtml = 'Like what you see? Visit the ' +\n",
              "          '<a target=\"_blank\" href=https://colab.research.google.com/notebooks/data_table.ipynb>data table notebook</a>'\n",
              "          + ' to learn more about interactive tables.';\n",
              "        element.innerHTML = '';\n",
              "        dataTable['output_type'] = 'display_data';\n",
              "        await google.colab.output.renderOutput(dataTable, element);\n",
              "        const docLink = document.createElement('div');\n",
              "        docLink.innerHTML = docLinkHtml;\n",
              "        element.appendChild(docLink);\n",
              "      }\n",
              "    </script>\n",
              "  </div>\n",
              "\n",
              "\n",
              "<div id=\"df-856649e8-16eb-4169-ad7a-c8ef259aebc9\">\n",
              "  <button class=\"colab-df-quickchart\" onclick=\"quickchart('df-856649e8-16eb-4169-ad7a-c8ef259aebc9')\"\n",
              "            title=\"Suggest charts\"\n",
              "            style=\"display:none;\">\n",
              "\n",
              "<svg xmlns=\"http://www.w3.org/2000/svg\" height=\"24px\"viewBox=\"0 0 24 24\"\n",
              "     width=\"24px\">\n",
              "    <g>\n",
              "        <path d=\"M19 3H5c-1.1 0-2 .9-2 2v14c0 1.1.9 2 2 2h14c1.1 0 2-.9 2-2V5c0-1.1-.9-2-2-2zM9 17H7v-7h2v7zm4 0h-2V7h2v10zm4 0h-2v-4h2v4z\"/>\n",
              "    </g>\n",
              "</svg>\n",
              "  </button>\n",
              "\n",
              "<style>\n",
              "  .colab-df-quickchart {\n",
              "      --bg-color: #E8F0FE;\n",
              "      --fill-color: #1967D2;\n",
              "      --hover-bg-color: #E2EBFA;\n",
              "      --hover-fill-color: #174EA6;\n",
              "      --disabled-fill-color: #AAA;\n",
              "      --disabled-bg-color: #DDD;\n",
              "  }\n",
              "\n",
              "  [theme=dark] .colab-df-quickchart {\n",
              "      --bg-color: #3B4455;\n",
              "      --fill-color: #D2E3FC;\n",
              "      --hover-bg-color: #434B5C;\n",
              "      --hover-fill-color: #FFFFFF;\n",
              "      --disabled-bg-color: #3B4455;\n",
              "      --disabled-fill-color: #666;\n",
              "  }\n",
              "\n",
              "  .colab-df-quickchart {\n",
              "    background-color: var(--bg-color);\n",
              "    border: none;\n",
              "    border-radius: 50%;\n",
              "    cursor: pointer;\n",
              "    display: none;\n",
              "    fill: var(--fill-color);\n",
              "    height: 32px;\n",
              "    padding: 0;\n",
              "    width: 32px;\n",
              "  }\n",
              "\n",
              "  .colab-df-quickchart:hover {\n",
              "    background-color: var(--hover-bg-color);\n",
              "    box-shadow: 0 1px 2px rgba(60, 64, 67, 0.3), 0 1px 3px 1px rgba(60, 64, 67, 0.15);\n",
              "    fill: var(--button-hover-fill-color);\n",
              "  }\n",
              "\n",
              "  .colab-df-quickchart-complete:disabled,\n",
              "  .colab-df-quickchart-complete:disabled:hover {\n",
              "    background-color: var(--disabled-bg-color);\n",
              "    fill: var(--disabled-fill-color);\n",
              "    box-shadow: none;\n",
              "  }\n",
              "\n",
              "  .colab-df-spinner {\n",
              "    border: 2px solid var(--fill-color);\n",
              "    border-color: transparent;\n",
              "    border-bottom-color: var(--fill-color);\n",
              "    animation:\n",
              "      spin 1s steps(1) infinite;\n",
              "  }\n",
              "\n",
              "  @keyframes spin {\n",
              "    0% {\n",
              "      border-color: transparent;\n",
              "      border-bottom-color: var(--fill-color);\n",
              "      border-left-color: var(--fill-color);\n",
              "    }\n",
              "    20% {\n",
              "      border-color: transparent;\n",
              "      border-left-color: var(--fill-color);\n",
              "      border-top-color: var(--fill-color);\n",
              "    }\n",
              "    30% {\n",
              "      border-color: transparent;\n",
              "      border-left-color: var(--fill-color);\n",
              "      border-top-color: var(--fill-color);\n",
              "      border-right-color: var(--fill-color);\n",
              "    }\n",
              "    40% {\n",
              "      border-color: transparent;\n",
              "      border-right-color: var(--fill-color);\n",
              "      border-top-color: var(--fill-color);\n",
              "    }\n",
              "    60% {\n",
              "      border-color: transparent;\n",
              "      border-right-color: var(--fill-color);\n",
              "    }\n",
              "    80% {\n",
              "      border-color: transparent;\n",
              "      border-right-color: var(--fill-color);\n",
              "      border-bottom-color: var(--fill-color);\n",
              "    }\n",
              "    90% {\n",
              "      border-color: transparent;\n",
              "      border-bottom-color: var(--fill-color);\n",
              "    }\n",
              "  }\n",
              "</style>\n",
              "\n",
              "  <script>\n",
              "    async function quickchart(key) {\n",
              "      const quickchartButtonEl =\n",
              "        document.querySelector('#' + key + ' button');\n",
              "      quickchartButtonEl.disabled = true;  // To prevent multiple clicks.\n",
              "      quickchartButtonEl.classList.add('colab-df-spinner');\n",
              "      try {\n",
              "        const charts = await google.colab.kernel.invokeFunction(\n",
              "            'suggestCharts', [key], {});\n",
              "      } catch (error) {\n",
              "        console.error('Error during call to suggestCharts:', error);\n",
              "      }\n",
              "      quickchartButtonEl.classList.remove('colab-df-spinner');\n",
              "      quickchartButtonEl.classList.add('colab-df-quickchart-complete');\n",
              "    }\n",
              "    (() => {\n",
              "      let quickchartButtonEl =\n",
              "        document.querySelector('#df-856649e8-16eb-4169-ad7a-c8ef259aebc9 button');\n",
              "      quickchartButtonEl.style.display =\n",
              "        google.colab.kernel.accessAllowed ? 'block' : 'none';\n",
              "    })();\n",
              "  </script>\n",
              "</div>\n",
              "\n",
              "    </div>\n",
              "  </div>\n"
            ],
            "application/vnd.google.colaboratory.intrinsic+json": {
              "type": "dataframe",
              "variable_name": "data"
            }
          },
          "metadata": {},
          "execution_count": 4
        }
      ]
    },
    {
      "cell_type": "code",
      "source": [
        "data.columns"
      ],
      "metadata": {
        "colab": {
          "base_uri": "https://localhost:8080/"
        },
        "id": "nM6bhaIT87FV",
        "outputId": "d35b322a-2e7f-4191-d0ac-874d4377cbb6"
      },
      "execution_count": null,
      "outputs": [
        {
          "output_type": "execute_result",
          "data": {
            "text/plain": [
              "Index(['Blog Post Link', 'Smart Contract Address', 'Audit Website',\n",
              "       'Source link 1', 'Source link 2', 'Source link 3', 'Chain',\n",
              "       'Is_closed_source', 'hidden_owner', 'anti_whale_modifiable',\n",
              "       'Is_anti_whale', 'Is_honeypot', 'buy_tax', 'sell_tax',\n",
              "       'slippage_modifiable', 'Is_blacklisted', 'can_take_back_ownership',\n",
              "       'owner_change_balance', 'is_airdrop_scam', 'selfdestruct', 'trust_list',\n",
              "       'is_whitelisted', 'is_fake_token', 'illegal_unicode', 'exploitation',\n",
              "       'bad_contract', 'reusing_state_variable', 'encode_packed_collision',\n",
              "       'encode_packed_parameters', 'centralized_risk_medium',\n",
              "       'centralized_risk_high', 'centralized_risk_low', 'event_setter',\n",
              "       'external_dependencies', 'immutable_states',\n",
              "       'reentrancy_without_eth_transfer', 'incorrect_inheritance_order',\n",
              "       'shadowing_local', 'events_maths',\n",
              "       'Summary/rationale of risk tags marked true'],\n",
              "      dtype='object')"
            ]
          },
          "metadata": {},
          "execution_count": 5
        }
      ]
    },
    {
      "cell_type": "markdown",
      "source": [
        "## Feature Selection\n",
        "Feature selection is crucial in any machine learning task. For clustering smart contracts, we select features that represent different risk tags effectively. This might include features like transaction frequency, error rates, or specific security vulnerabilities.\n",
        "\n",
        "Below, we select a hypothetical set of features. For simplicity and effective visualization, we will select just three binary risk tags. Adjust the features according to your dataset and analysis needs.\n",
        "\n"
      ],
      "metadata": {
        "id": "noBnsUbpZC7s"
      }
    },
    {
      "cell_type": "code",
      "source": [
        "data_new = data.copy()\n",
        "# Assuming the dataset has multiple features, we select a few relevant ones\n",
        "feature_1 = 'hidden_owner'\n",
        "feature_2 = 'Is_honeypot'\n",
        "feature_3 = 'exploitation'\n",
        "selected_features = data_new[[feature_1, feature_2,feature_3]].replace({True:1, False:0})\n",
        "print(\"Features selected for clustering:\")\n",
        "\n",
        "print(selected_features.head())\n"
      ],
      "metadata": {
        "colab": {
          "base_uri": "https://localhost:8080/"
        },
        "id": "HqLV59ooZeUc",
        "outputId": "1da98a75-f434-4fe6-d9c3-29e82aaf7eed"
      },
      "execution_count": null,
      "outputs": [
        {
          "output_type": "stream",
          "name": "stdout",
          "text": [
            "Features selected for clustering:\n",
            "   hidden_owner  Is_honeypot  exploitation\n",
            "0             0            0             0\n",
            "1             1            0             0\n",
            "2             0            1             0\n",
            "3             1            0             0\n",
            "4             0            0             0\n"
          ]
        }
      ]
    },
    {
      "cell_type": "markdown",
      "source": [
        "Feel free to use as many features as you would like. We are using only three features here because that is easy to visualize. Otherwise, feel free to utilize features that make sense."
      ],
      "metadata": {
        "id": "gXLEdT2g9HH8"
      }
    },
    {
      "cell_type": "markdown",
      "source": [
        "# Applying Clustering\n",
        "## Hierarchical Clustering with Jaccard Distance\n",
        "\n",
        "In this section of our Colab notebook, we will apply hierarchical clustering to our dataset using Jaccard distance. This method is particularly effective for datasets with binary attributes, like ours, as it measures the dissimilarity between sample sets.\n",
        "\n",
        "\n",
        "### Compute Jaccard Distance\n",
        "\n",
        "Compute the pairwise Jaccard distance between observations. Jaccard distance is a measure of how dissimilar two sets are, ranging from 0 (identical) to 1 (no common elements).\n"
      ],
      "metadata": {
        "id": "EOHytTW-9Xe7"
      }
    },
    {
      "cell_type": "code",
      "source": [
        "from scipy.spatial.distance import pdist, squareform\n",
        "\n",
        "# Assuming 'selected_features' is your DataFrame with binary data\n",
        "distance_matrix = pdist(selected_features, 'jaccard')\n",
        "distance_square_matrix = squareform(distance_matrix)  # Convert to square matrix\n"
      ],
      "metadata": {
        "id": "iyeeEuTpHN0M"
      },
      "execution_count": null,
      "outputs": []
    },
    {
      "cell_type": "markdown",
      "source": [
        "### Perform Hierarchical Clustering\n",
        "\n",
        "Using the complete linkage method, we perform hierarchical clustering. Complete linkage considers the maximum distance between observations in two clusters."
      ],
      "metadata": {
        "id": "7wSZyyeUdwTk"
      }
    },
    {
      "cell_type": "code",
      "source": [
        "import scipy.cluster.hierarchy as sch\n",
        "\n",
        "# Create linkage matrix\n",
        "linkage_matrix = sch.linkage(distance_matrix, method='ward')\n",
        "\n"
      ],
      "metadata": {
        "id": "AuY2e0y4HObd"
      },
      "execution_count": null,
      "outputs": []
    },
    {
      "cell_type": "code",
      "source": [
        "linkage_matrix"
      ],
      "metadata": {
        "colab": {
          "base_uri": "https://localhost:8080/"
        },
        "id": "Us82wzweJtae",
        "outputId": "151bbdec-03bd-4927-d46e-15ff6d732a73"
      },
      "execution_count": null,
      "outputs": [
        {
          "output_type": "execute_result",
          "data": {
            "text/plain": [
              "array([[  0.        ,   4.        ,   0.        ,   2.        ],\n",
              "       [  1.        ,   3.        ,   0.        ,   2.        ],\n",
              "       [  2.        ,  13.        ,   0.        ,   2.        ],\n",
              "       [  6.        , 101.        ,   0.        ,   3.        ],\n",
              "       [  5.        , 100.        ,   0.        ,   3.        ],\n",
              "       [  7.        , 104.        ,   0.        ,   4.        ],\n",
              "       [ 12.        , 103.        ,   0.        ,   4.        ],\n",
              "       [  8.        , 105.        ,   0.        ,   5.        ],\n",
              "       [  9.        , 107.        ,   0.        ,   6.        ],\n",
              "       [ 10.        , 108.        ,   0.        ,   7.        ],\n",
              "       [ 11.        , 109.        ,   0.        ,   8.        ],\n",
              "       [ 17.        , 110.        ,   0.        ,   9.        ],\n",
              "       [ 14.        , 106.        ,   0.        ,   5.        ],\n",
              "       [ 21.        , 102.        ,   0.        ,   3.        ],\n",
              "       [ 15.        , 112.        ,   0.        ,   6.        ],\n",
              "       [ 16.        , 114.        ,   0.        ,   7.        ],\n",
              "       [ 20.        , 115.        ,   0.        ,   8.        ],\n",
              "       [ 18.        , 111.        ,   0.        ,  10.        ],\n",
              "       [ 19.        , 117.        ,   0.        ,  11.        ],\n",
              "       [ 22.        , 118.        ,   0.        ,  12.        ],\n",
              "       [ 25.        , 116.        ,   0.        ,   9.        ],\n",
              "       [ 34.        ,  81.        ,   0.        ,   2.        ],\n",
              "       [ 35.        ,  95.        ,   0.        ,   2.        ],\n",
              "       [ 27.        , 120.        ,   0.        ,  10.        ],\n",
              "       [ 28.        , 123.        ,   0.        ,  11.        ],\n",
              "       [ 40.        , 124.        ,   0.        ,  12.        ],\n",
              "       [ 41.        , 125.        ,   0.        ,  13.        ],\n",
              "       [ 45.        , 126.        ,   0.        ,  14.        ],\n",
              "       [ 47.        , 127.        ,   0.        ,  15.        ],\n",
              "       [ 48.        , 128.        ,   0.        ,  16.        ],\n",
              "       [ 49.        , 129.        ,   0.        ,  17.        ],\n",
              "       [ 50.        , 130.        ,   0.        ,  18.        ],\n",
              "       [ 52.        , 131.        ,   0.        ,  19.        ],\n",
              "       [ 56.        , 132.        ,   0.        ,  20.        ],\n",
              "       [ 58.        , 133.        ,   0.        ,  21.        ],\n",
              "       [ 60.        , 134.        ,   0.        ,  22.        ],\n",
              "       [ 63.        , 135.        ,   0.        ,  23.        ],\n",
              "       [ 68.        , 136.        ,   0.        ,  24.        ],\n",
              "       [ 70.        , 137.        ,   0.        ,  25.        ],\n",
              "       [ 72.        , 138.        ,   0.        ,  26.        ],\n",
              "       [ 89.        , 139.        ,   0.        ,  27.        ],\n",
              "       [ 90.        , 140.        ,   0.        ,  28.        ],\n",
              "       [ 94.        , 141.        ,   0.        ,  29.        ],\n",
              "       [ 98.        , 142.        ,   0.        ,  30.        ],\n",
              "       [ 31.        ,  61.        ,   0.        ,   2.        ],\n",
              "       [ 85.        , 144.        ,   0.        ,   3.        ],\n",
              "       [ 23.        , 119.        ,   0.        ,  13.        ],\n",
              "       [ 24.        , 146.        ,   0.        ,  14.        ],\n",
              "       [ 26.        , 147.        ,   0.        ,  15.        ],\n",
              "       [ 29.        , 148.        ,   0.        ,  16.        ],\n",
              "       [ 30.        , 149.        ,   0.        ,  17.        ],\n",
              "       [ 32.        , 150.        ,   0.        ,  18.        ],\n",
              "       [ 33.        , 151.        ,   0.        ,  19.        ],\n",
              "       [ 36.        , 152.        ,   0.        ,  20.        ],\n",
              "       [ 37.        , 153.        ,   0.        ,  21.        ],\n",
              "       [ 39.        , 154.        ,   0.        ,  22.        ],\n",
              "       [ 42.        , 155.        ,   0.        ,  23.        ],\n",
              "       [ 43.        , 156.        ,   0.        ,  24.        ],\n",
              "       [ 44.        , 157.        ,   0.        ,  25.        ],\n",
              "       [ 46.        , 158.        ,   0.        ,  26.        ],\n",
              "       [ 51.        , 159.        ,   0.        ,  27.        ],\n",
              "       [ 53.        , 160.        ,   0.        ,  28.        ],\n",
              "       [ 54.        , 161.        ,   0.        ,  29.        ],\n",
              "       [ 55.        , 162.        ,   0.        ,  30.        ],\n",
              "       [ 57.        , 163.        ,   0.        ,  31.        ],\n",
              "       [ 59.        , 164.        ,   0.        ,  32.        ],\n",
              "       [ 62.        , 165.        ,   0.        ,  33.        ],\n",
              "       [ 64.        , 166.        ,   0.        ,  34.        ],\n",
              "       [ 65.        , 167.        ,   0.        ,  35.        ],\n",
              "       [ 66.        , 168.        ,   0.        ,  36.        ],\n",
              "       [ 67.        , 169.        ,   0.        ,  37.        ],\n",
              "       [ 69.        , 170.        ,   0.        ,  38.        ],\n",
              "       [ 71.        , 171.        ,   0.        ,  39.        ],\n",
              "       [ 73.        , 172.        ,   0.        ,  40.        ],\n",
              "       [ 74.        , 173.        ,   0.        ,  41.        ],\n",
              "       [ 75.        , 174.        ,   0.        ,  42.        ],\n",
              "       [ 77.        , 175.        ,   0.        ,  43.        ],\n",
              "       [ 78.        , 176.        ,   0.        ,  44.        ],\n",
              "       [ 79.        , 177.        ,   0.        ,  45.        ],\n",
              "       [ 80.        , 178.        ,   0.        ,  46.        ],\n",
              "       [ 82.        , 179.        ,   0.        ,  47.        ],\n",
              "       [ 83.        , 180.        ,   0.        ,  48.        ],\n",
              "       [ 84.        , 181.        ,   0.        ,  49.        ],\n",
              "       [ 86.        , 182.        ,   0.        ,  50.        ],\n",
              "       [ 87.        , 183.        ,   0.        ,  51.        ],\n",
              "       [ 88.        , 184.        ,   0.        ,  52.        ],\n",
              "       [ 91.        , 185.        ,   0.        ,  53.        ],\n",
              "       [ 92.        , 186.        ,   0.        ,  54.        ],\n",
              "       [ 93.        , 187.        ,   0.        ,  55.        ],\n",
              "       [ 96.        , 188.        ,   0.        ,  56.        ],\n",
              "       [ 97.        , 189.        ,   0.        ,  57.        ],\n",
              "       [ 99.        , 190.        ,   0.        ,  58.        ],\n",
              "       [ 38.        ,  76.        ,   0.33333333,   2.        ],\n",
              "       [121.        , 192.        ,   0.70710678,   4.        ],\n",
              "       [113.        , 122.        ,   0.77459667,   5.        ],\n",
              "       [193.        , 194.        ,   1.15416583,   9.        ],\n",
              "       [145.        , 195.        ,   1.56889125,  12.        ],\n",
              "       [143.        , 196.        ,   3.09195491,  42.        ],\n",
              "       [191.        , 197.        ,   6.34605448, 100.        ]])"
            ]
          },
          "metadata": {},
          "execution_count": 9
        }
      ]
    },
    {
      "cell_type": "markdown",
      "source": [
        "### Plot the Dendrogram\n",
        "\n",
        "Visualize the clustering as a dendrogram, which will help us understand the data's hierarchical structure."
      ],
      "metadata": {
        "id": "xoMH0EWEd5W5"
      }
    },
    {
      "cell_type": "code",
      "source": [
        "# Plot the dendrogram\n",
        "import matplotlib.pyplot as plt\n",
        "\n",
        "plt.figure(figsize=(10, 7))\n",
        "dendrogram = sch.dendrogram(linkage_matrix)\n",
        "plt.title('Hierarchical Clustering Dendrogram')\n",
        "plt.xlabel('Data points')\n",
        "plt.ylabel('Jaccard distance')\n",
        "plt.show()\n"
      ],
      "metadata": {
        "colab": {
          "base_uri": "https://localhost:8080/",
          "height": 656
        },
        "id": "x0BCSaXhd2Bp",
        "outputId": "e3d9bd5b-e077-4a2b-daf1-f9403f0ac863"
      },
      "execution_count": null,
      "outputs": [
        {
          "output_type": "display_data",
          "data": {
            "text/plain": [
              "<Figure size 1000x700 with 1 Axes>"
            ],
            "image/png": "[encoded data removed]"
          },
          "metadata": {}
        }
      ]
    },
    {
      "cell_type": "markdown",
      "source": [
        "### Analyzing the Dendrogram\n",
        "\n",
        "The dendrogram shows how each cluster is linked, with the y-axis representing the distance (dissimilarity) at which clusters are merged. The height of the merge point indicates the similarity between clusters: lower heights suggest greater similarity."
      ],
      "metadata": {
        "id": "J3qEGPrjd_Dt"
      }
    },
    {
      "cell_type": "markdown",
      "source": [
        "## Visualizing Clusters\n",
        "Let's visualize the clusters formed based on the selected binary risk tags.\n"
      ],
      "metadata": {
        "id": "Vh8NU_kNZ4F1"
      }
    },
    {
      "cell_type": "code",
      "source": [
        "# Example: Set maximum distance at 1.5 for cluster formation\n",
        "cluster_labels = fcluster(linkage_matrix, t=5, criterion='distance')\n",
        "\n",
        "# Add cluster labels back to your original DataFrame\n",
        "data_new['cluster'] = cluster_labels\n",
        "\n",
        "# Summary statistics for each cluster\n",
        "cluster_summary = data_new[[feature_1, feature_2, feature_3,'cluster']].groupby('cluster').agg(['mean', 'std', 'median', 'count'])\n",
        "cluster_summary\n"
      ],
      "metadata": {
        "colab": {
          "base_uri": "https://localhost:8080/",
          "height": 175
        },
        "id": "rQ09IsDTHQU9",
        "outputId": "a802c7a1-1f1a-414b-f434-c25d129d3b69"
      },
      "execution_count": null,
      "outputs": [
        {
          "output_type": "execute_result",
          "data": {
            "text/plain": [
              "        hidden_owner                        Is_honeypot                   \\\n",
              "                mean       std median count        mean       std median   \n",
              "cluster                                                                    \n",
              "1           0.000000  0.000000    0.0    58    0.000000  0.000000    0.0   \n",
              "2           0.809524  0.397437    1.0    42    0.190476  0.397437    0.0   \n",
              "\n",
              "              exploitation                         \n",
              "        count         mean       std median count  \n",
              "cluster                                            \n",
              "1          58     0.000000  0.000000    0.0    58  \n",
              "2          42     0.166667  0.377195    0.0    42  "
            ],
            "text/html": [
              "\n",
              "  <div id=\"df-1c39be65-3d0a-495e-9eca-88a25474a856\" class=\"colab-df-container\">\n",
              "    <div>\n",
              "<style scoped>\n",
              "    .dataframe tbody tr th:only-of-type {\n",
              "        vertical-align: middle;\n",
              "    }\n",
              "\n",
              "    .dataframe tbody tr th {\n",
              "        vertical-align: top;\n",
              "    }\n",
              "\n",
              "    .dataframe thead tr th {\n",
              "        text-align: left;\n",
              "    }\n",
              "\n",
              "    .dataframe thead tr:last-of-type th {\n",
              "        text-align: right;\n",
              "    }\n",
              "</style>\n",
              "<table border=\"1\" class=\"dataframe\">\n",
              "  <thead>\n",
              "    <tr>\n",
              "      <th></th>\n",
              "      <th colspan=\"4\" halign=\"left\">hidden_owner</th>\n",
              "      <th colspan=\"4\" halign=\"left\">Is_honeypot</th>\n",
              "      <th colspan=\"4\" halign=\"left\">exploitation</th>\n",
              "    </tr>\n",
              "    <tr>\n",
              "      <th></th>\n",
              "      <th>mean</th>\n",
              "      <th>std</th>\n",
              "      <th>median</th>\n",
              "      <th>count</th>\n",
              "      <th>mean</th>\n",
              "      <th>std</th>\n",
              "      <th>median</th>\n",
              "      <th>count</th>\n",
              "      <th>mean</th>\n",
              "      <th>std</th>\n",
              "      <th>median</th>\n",
              "      <th>count</th>\n",
              "    </tr>\n",
              "    <tr>\n",
              "      <th>cluster</th>\n",
              "      <th></th>\n",
              "      <th></th>\n",
              "      <th></th>\n",
              "      <th></th>\n",
              "      <th></th>\n",
              "      <th></th>\n",
              "      <th></th>\n",
              "      <th></th>\n",
              "      <th></th>\n",
              "      <th></th>\n",
              "      <th></th>\n",
              "      <th></th>\n",
              "    </tr>\n",
              "  </thead>\n",
              "  <tbody>\n",
              "    <tr>\n",
              "      <th>1</th>\n",
              "      <td>0.000000</td>\n",
              "      <td>0.000000</td>\n",
              "      <td>0.0</td>\n",
              "      <td>58</td>\n",
              "      <td>0.000000</td>\n",
              "      <td>0.000000</td>\n",
              "      <td>0.0</td>\n",
              "      <td>58</td>\n",
              "      <td>0.000000</td>\n",
              "      <td>0.000000</td>\n",
              "      <td>0.0</td>\n",
              "      <td>58</td>\n",
              "    </tr>\n",
              "    <tr>\n",
              "      <th>2</th>\n",
              "      <td>0.809524</td>\n",
              "      <td>0.397437</td>\n",
              "      <td>1.0</td>\n",
              "      <td>42</td>\n",
              "      <td>0.190476</td>\n",
              "      <td>0.397437</td>\n",
              "      <td>0.0</td>\n",
              "      <td>42</td>\n",
              "      <td>0.166667</td>\n",
              "      <td>0.377195</td>\n",
              "      <td>0.0</td>\n",
              "      <td>42</td>\n",
              "    </tr>\n",
              "  </tbody>\n",
              "</table>\n",
              "</div>\n",
              "    <div class=\"colab-df-buttons\">\n",
              "\n",
              "  <div class=\"colab-df-container\">\n",
              "    <button class=\"colab-df-convert\" onclick=\"convertToInteractive('df-1c39be65-3d0a-495e-9eca-88a25474a856')\"\n",
              "            title=\"Convert this dataframe to an interactive table.\"\n",
              "            style=\"display:none;\">\n",
              "\n",
              "  <svg xmlns=\"http://www.w3.org/2000/svg\" height=\"24px\" viewBox=\"0 -960 960 960\">\n",
              "    <path d=\"M120-120v-720h720v720H120Zm60-500h600v-160H180v160Zm220 220h160v-160H400v160Zm0 220h160v-160H400v160ZM180-400h160v-160H180v160Zm440 0h160v-160H620v160ZM180-180h160v-160H180v160Zm440 0h160v-160H620v160Z\"/>\n",
              "  </svg>\n",
              "    </button>\n",
              "\n",
              "  <style>\n",
              "    .colab-df-container {\n",
              "      display:flex;\n",
              "      gap: 12px;\n",
              "    }\n",
              "\n",
              "    .colab-df-convert {\n",
              "      background-color: #E8F0FE;\n",
              "      border: none;\n",
              "      border-radius: 50%;\n",
              "      cursor: pointer;\n",
              "      display: none;\n",
              "      fill: #1967D2;\n",
              "      height: 32px;\n",
              "      padding: 0 0 0 0;\n",
              "      width: 32px;\n",
              "    }\n",
              "\n",
              "    .colab-df-convert:hover {\n",
              "      background-color: #E2EBFA;\n",
              "      box-shadow: 0px 1px 2px rgba(60, 64, 67, 0.3), 0px 1px 3px 1px rgba(60, 64, 67, 0.15);\n",
              "      fill: #174EA6;\n",
              "    }\n",
              "\n",
              "    .colab-df-buttons div {\n",
              "      margin-bottom: 4px;\n",
              "    }\n",
              "\n",
              "    [theme=dark] .colab-df-convert {\n",
              "      background-color: #3B4455;\n",
              "      fill: #D2E3FC;\n",
              "    }\n",
              "\n",
              "    [theme=dark] .colab-df-convert:hover {\n",
              "      background-color: #434B5C;\n",
              "      box-shadow: 0px 1px 3px 1px rgba(0, 0, 0, 0.15);\n",
              "      filter: drop-shadow(0px 1px 2px rgba(0, 0, 0, 0.3));\n",
              "      fill: #FFFFFF;\n",
              "    }\n",
              "  </style>\n",
              "\n",
              "    <script>\n",
              "      const buttonEl =\n",
              "        document.querySelector('#df-1c39be65-3d0a-495e-9eca-88a25474a856 button.colab-df-convert');\n",
              "      buttonEl.style.display =\n",
              "        google.colab.kernel.accessAllowed ? 'block' : 'none';\n",
              "\n",
              "      async function convertToInteractive(key) {\n",
              "        const element = document.querySelector('#df-1c39be65-3d0a-495e-9eca-88a25474a856');\n",
              "        const dataTable =\n",
              "          await google.colab.kernel.invokeFunction('convertToInteractive',\n",
              "                                                    [key], {});\n",
              "        if (!dataTable) return;\n",
              "\n",
              "        const docLinkHtml = 'Like what you see? Visit the ' +\n",
              "          '<a target=\"_blank\" href=https://colab.research.google.com/notebooks/data_table.ipynb>data table notebook</a>'\n",
              "          + ' to learn more about interactive tables.';\n",
              "        element.innerHTML = '';\n",
              "        dataTable['output_type'] = 'display_data';\n",
              "        await google.colab.output.renderOutput(dataTable, element);\n",
              "        const docLink = document.createElement('div');\n",
              "        docLink.innerHTML = docLinkHtml;\n",
              "        element.appendChild(docLink);\n",
              "      }\n",
              "    </script>\n",
              "  </div>\n",
              "\n",
              "\n",
              "<div id=\"df-e978fecd-ac9c-409d-ad9b-8fd7f0afbd04\">\n",
              "  <button class=\"colab-df-quickchart\" onclick=\"quickchart('df-e978fecd-ac9c-409d-ad9b-8fd7f0afbd04')\"\n",
              "            title=\"Suggest charts\"\n",
              "            style=\"display:none;\">\n",
              "\n",
              "<svg xmlns=\"http://www.w3.org/2000/svg\" height=\"24px\"viewBox=\"0 0 24 24\"\n",
              "     width=\"24px\">\n",
              "    <g>\n",
              "        <path d=\"M19 3H5c-1.1 0-2 .9-2 2v14c0 1.1.9 2 2 2h14c1.1 0 2-.9 2-2V5c0-1.1-.9-2-2-2zM9 17H7v-7h2v7zm4 0h-2V7h2v10zm4 0h-2v-4h2v4z\"/>\n",
              "    </g>\n",
              "</svg>\n",
              "  </button>\n",
              "\n",
              "<style>\n",
              "  .colab-df-quickchart {\n",
              "      --bg-color: #E8F0FE;\n",
              "      --fill-color: #1967D2;\n",
              "      --hover-bg-color: #E2EBFA;\n",
              "      --hover-fill-color: #174EA6;\n",
              "      --disabled-fill-color: #AAA;\n",
              "      --disabled-bg-color: #DDD;\n",
              "  }\n",
              "\n",
              "  [theme=dark] .colab-df-quickchart {\n",
              "      --bg-color: #3B4455;\n",
              "      --fill-color: #D2E3FC;\n",
              "      --hover-bg-color: #434B5C;\n",
              "      --hover-fill-color: #FFFFFF;\n",
              "      --disabled-bg-color: #3B4455;\n",
              "      --disabled-fill-color: #666;\n",
              "  }\n",
              "\n",
              "  .colab-df-quickchart {\n",
              "    background-color: var(--bg-color);\n",
              "    border: none;\n",
              "    border-radius: 50%;\n",
              "    cursor: pointer;\n",
              "    display: none;\n",
              "    fill: var(--fill-color);\n",
              "    height: 32px;\n",
              "    padding: 0;\n",
              "    width: 32px;\n",
              "  }\n",
              "\n",
              "  .colab-df-quickchart:hover {\n",
              "    background-color: var(--hover-bg-color);\n",
              "    box-shadow: 0 1px 2px rgba(60, 64, 67, 0.3), 0 1px 3px 1px rgba(60, 64, 67, 0.15);\n",
              "    fill: var(--button-hover-fill-color);\n",
              "  }\n",
              "\n",
              "  .colab-df-quickchart-complete:disabled,\n",
              "  .colab-df-quickchart-complete:disabled:hover {\n",
              "    background-color: var(--disabled-bg-color);\n",
              "    fill: var(--disabled-fill-color);\n",
              "    box-shadow: none;\n",
              "  }\n",
              "\n",
              "  .colab-df-spinner {\n",
              "    border: 2px solid var(--fill-color);\n",
              "    border-color: transparent;\n",
              "    border-bottom-color: var(--fill-color);\n",
              "    animation:\n",
              "      spin 1s steps(1) infinite;\n",
              "  }\n",
              "\n",
              "  @keyframes spin {\n",
              "    0% {\n",
              "      border-color: transparent;\n",
              "      border-bottom-color: var(--fill-color);\n",
              "      border-left-color: var(--fill-color);\n",
              "    }\n",
              "    20% {\n",
              "      border-color: transparent;\n",
              "      border-left-color: var(--fill-color);\n",
              "      border-top-color: var(--fill-color);\n",
              "    }\n",
              "    30% {\n",
              "      border-color: transparent;\n",
              "      border-left-color: var(--fill-color);\n",
              "      border-top-color: var(--fill-color);\n",
              "      border-right-color: var(--fill-color);\n",
              "    }\n",
              "    40% {\n",
              "      border-color: transparent;\n",
              "      border-right-color: var(--fill-color);\n",
              "      border-top-color: var(--fill-color);\n",
              "    }\n",
              "    60% {\n",
              "      border-color: transparent;\n",
              "      border-right-color: var(--fill-color);\n",
              "    }\n",
              "    80% {\n",
              "      border-color: transparent;\n",
              "      border-right-color: var(--fill-color);\n",
              "      border-bottom-color: var(--fill-color);\n",
              "    }\n",
              "    90% {\n",
              "      border-color: transparent;\n",
              "      border-bottom-color: var(--fill-color);\n",
              "    }\n",
              "  }\n",
              "</style>\n",
              "\n",
              "  <script>\n",
              "    async function quickchart(key) {\n",
              "      const quickchartButtonEl =\n",
              "        document.querySelector('#' + key + ' button');\n",
              "      quickchartButtonEl.disabled = true;  // To prevent multiple clicks.\n",
              "      quickchartButtonEl.classList.add('colab-df-spinner');\n",
              "      try {\n",
              "        const charts = await google.colab.kernel.invokeFunction(\n",
              "            'suggestCharts', [key], {});\n",
              "      } catch (error) {\n",
              "        console.error('Error during call to suggestCharts:', error);\n",
              "      }\n",
              "      quickchartButtonEl.classList.remove('colab-df-spinner');\n",
              "      quickchartButtonEl.classList.add('colab-df-quickchart-complete');\n",
              "    }\n",
              "    (() => {\n",
              "      let quickchartButtonEl =\n",
              "        document.querySelector('#df-e978fecd-ac9c-409d-ad9b-8fd7f0afbd04 button');\n",
              "      quickchartButtonEl.style.display =\n",
              "        google.colab.kernel.accessAllowed ? 'block' : 'none';\n",
              "    })();\n",
              "  </script>\n",
              "</div>\n",
              "    </div>\n",
              "  </div>\n"
            ],
            "application/vnd.google.colaboratory.intrinsic+json": {
              "type": "dataframe",
              "variable_name": "cluster_summary",
              "summary": "{\n  \"name\": \"cluster_summary\",\n  \"rows\": 2,\n  \"fields\": [\n    {\n      \"column\": [\n        \"cluster\",\n        \"\"\n      ],\n      \"properties\": {\n        \"dtype\": \"int32\",\n        \"num_unique_values\": 2,\n        \"samples\": [\n          2,\n          1\n        ],\n        \"semantic_type\": \"\",\n        \"description\": \"\"\n      }\n    },\n    {\n      \"column\": [\n        \"hidden_owner\",\n        \"mean\"\n      ],\n      \"properties\": {\n        \"dtype\": \"number\",\n        \"std\": 0.5724197752462528,\n        \"min\": 0.0,\n        \"max\": 0.8095238095238095,\n        \"num_unique_values\": 2,\n        \"samples\": [\n          0.8095238095238095,\n          0.0\n        ],\n        \"semantic_type\": \"\",\n        \"description\": \"\"\n      }\n    },\n    {\n      \"column\": [\n        \"hidden_owner\",\n        \"std\"\n      ],\n      \"properties\": {\n        \"dtype\": \"number\",\n        \"std\": 0.2810301276313079,\n        \"min\": 0.0,\n        \"max\": 0.39743661793163754,\n        \"num_unique_values\": 2,\n        \"samples\": [\n          0.39743661793163754,\n          0.0\n        ],\n        \"semantic_type\": \"\",\n        \"description\": \"\"\n      }\n    },\n    {\n      \"column\": [\n        \"hidden_owner\",\n        \"median\"\n      ],\n      \"properties\": {\n        \"dtype\": \"number\",\n        \"std\": 0.7071067811865476,\n        \"min\": 0.0,\n        \"max\": 1.0,\n        \"num_unique_values\": 2,\n        \"samples\": [\n          1.0,\n          0.0\n        ],\n        \"semantic_type\": \"\",\n        \"description\": \"\"\n      }\n    },\n    {\n      \"column\": [\n        \"hidden_owner\",\n        \"count\"\n      ],\n      \"properties\": {\n        \"dtype\": \"number\",\n        \"std\": 11,\n        \"min\": 42,\n        \"max\": 58,\n        \"num_unique_values\": 2,\n        \"samples\": [\n          42,\n          58\n        ],\n        \"semantic_type\": \"\",\n        \"description\": \"\"\n      }\n    },\n    {\n      \"column\": [\n        \"Is_honeypot\",\n        \"mean\"\n      ],\n      \"properties\": {\n        \"dtype\": \"number\",\n        \"std\": 0.13468700594029476,\n        \"min\": 0.0,\n        \"max\": 0.19047619047619047,\n        \"num_unique_values\": 2,\n        \"samples\": [\n          0.19047619047619047,\n          0.0\n        ],\n        \"semantic_type\": \"\",\n        \"description\": \"\"\n      }\n    },\n    {\n      \"column\": [\n        \"Is_honeypot\",\n        \"std\"\n      ],\n      \"properties\": {\n        \"dtype\": \"number\",\n        \"std\": 0.28103012763130797,\n        \"min\": 0.0,\n        \"max\": 0.3974366179316376,\n        \"num_unique_values\": 2,\n        \"samples\": [\n          0.3974366179316376,\n          0.0\n        ],\n        \"semantic_type\": \"\",\n        \"description\": \"\"\n      }\n    },\n    {\n      \"column\": [\n        \"Is_honeypot\",\n        \"median\"\n      ],\n      \"properties\": {\n        \"dtype\": \"number\",\n        \"std\": 0.0,\n        \"min\": 0.0,\n        \"max\": 0.0,\n        \"num_unique_values\": 1,\n        \"samples\": [\n          0.0\n        ],\n        \"semantic_type\": \"\",\n        \"description\": \"\"\n      }\n    },\n    {\n      \"column\": [\n        \"Is_honeypot\",\n        \"count\"\n      ],\n      \"properties\": {\n        \"dtype\": \"number\",\n        \"std\": 11,\n        \"min\": 42,\n        \"max\": 58,\n        \"num_unique_values\": 2,\n        \"samples\": [\n          42\n        ],\n        \"semantic_type\": \"\",\n        \"description\": \"\"\n      }\n    },\n    {\n      \"column\": [\n        \"exploitation\",\n        \"mean\"\n      ],\n      \"properties\": {\n        \"dtype\": \"number\",\n        \"std\": 0.11785113019775792,\n        \"min\": 0.0,\n        \"max\": 0.16666666666666666,\n        \"num_unique_values\": 2,\n        \"samples\": [\n          0.16666666666666666\n        ],\n        \"semantic_type\": \"\",\n        \"description\": \"\"\n      }\n    },\n    {\n      \"column\": [\n        \"exploitation\",\n        \"std\"\n      ],\n      \"properties\": {\n        \"dtype\": \"number\",\n        \"std\": 0.26671747483454067,\n        \"min\": 0.0,\n        \"max\": 0.3771954702329121,\n        \"num_unique_values\": 2,\n        \"samples\": [\n          0.3771954702329121\n        ],\n        \"semantic_type\": \"\",\n        \"description\": \"\"\n      }\n    },\n    {\n      \"column\": [\n        \"exploitation\",\n        \"median\"\n      ],\n      \"properties\": {\n        \"dtype\": \"number\",\n        \"std\": 0.0,\n        \"min\": 0.0,\n        \"max\": 0.0,\n        \"num_unique_values\": 1,\n        \"samples\": [\n          0.0\n        ],\n        \"semantic_type\": \"\",\n        \"description\": \"\"\n      }\n    },\n    {\n      \"column\": [\n        \"exploitation\",\n        \"count\"\n      ],\n      \"properties\": {\n        \"dtype\": \"number\",\n        \"std\": 11,\n        \"min\": 42,\n        \"max\": 58,\n        \"num_unique_values\": 2,\n        \"samples\": [\n          42\n        ],\n        \"semantic_type\": \"\",\n        \"description\": \"\"\n      }\n    }\n  ]\n}"
            }
          },
          "metadata": {},
          "execution_count": 13
        }
      ]
    },
    {
      "cell_type": "markdown",
      "source": [
        "Plot histogram of cluster labels to see distribution of cluster sizes"
      ],
      "metadata": {
        "id": "dClOj4ZCfDmJ"
      }
    },
    {
      "cell_type": "code",
      "source": [
        "# Plot histogram of cluster labels to see distribution of cluster sizes\n",
        "plt.figure(figsize=(8, 6))\n",
        "plt.hist(cluster_labels, bins=np.arange(1, np.max(cluster_labels)+2)-0.5, rwidth=0.8, color='blue', alpha=0.7)\n",
        "plt.title('Histogram of Cluster Sizes')\n",
        "plt.xlabel('Cluster')\n",
        "plt.ylabel('Number of Points')\n",
        "plt.xticks(np.arange(1, np.max(cluster_labels)+1))\n",
        "plt.show()"
      ],
      "metadata": {
        "colab": {
          "base_uri": "https://localhost:8080/",
          "height": 564
        },
        "id": "yVyx_1s8IAvM",
        "outputId": "72b348f9-cc84-4e9d-97c1-5ce7c542ad9d"
      },
      "execution_count": null,
      "outputs": [
        {
          "output_type": "display_data",
          "data": {
            "text/plain": [
              "<Figure size 800x600 with 1 Axes>"
            ],
            "image/png": "[encoded data removed]"
          },
          "metadata": {}
        }
      ]
    },
    {
      "cell_type": "code",
      "source": [
        "# Calculate the mean for each cluster and feature\n",
        "cluster_centers = data_new[[feature_1, feature_2, feature_3,'cluster']].groupby('cluster').mean()\n",
        "\n",
        "plt.figure(figsize=(12, 8))\n",
        "sns.heatmap(cluster_centers, annot=True, cmap='coolwarm')\n",
        "plt.title('Heatmap of Cluster Centroids')\n",
        "plt.show()\n"
      ],
      "metadata": {
        "colab": {
          "base_uri": "https://localhost:8080/",
          "height": 699
        },
        "id": "0ABFr4VaemaN",
        "outputId": "40c681ac-c137-4f1d-f51e-a93df5832587"
      },
      "execution_count": null,
      "outputs": [
        {
          "output_type": "display_data",
          "data": {
            "text/plain": [
              "<Figure size 1200x800 with 2 Axes>"
            ],
            "image/png": "[encoded data removed]"
          },
          "metadata": {}
        }
      ]
    },
    {
      "cell_type": "markdown",
      "source": [
        "## Summary of Insights\n",
        "\n",
        "In this notebook, you have learned how to apply hierarchical clustering to a dataset with binary features using Jaccard distance. By analyzing the dendrogram and the histogram of clusters, you can gain valuable insights into the natural groupings within the dataset and how entities are related based on their attributes.\n",
        "\n",
        "These visualizations help us identify meaningful clusters and understand the structure of our data at a deeper level. Moving forward, you can use this knowledge to refine your analysis, explore different thresholds for clustering, or apply these techniques to new datasets."
      ],
      "metadata": {
        "id": "vuTlNwWXfy9N"
      }
    }
  ]
}